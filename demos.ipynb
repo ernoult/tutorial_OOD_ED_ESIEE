{
 "cells": [
  {
   "cell_type": "markdown",
   "id": "2a220cdd-886e-431b-a5fd-e64c6eb8b18a",
   "metadata": {},
   "source": [
    "### Some imports"
   ]
  },
  {
   "cell_type": "code",
   "execution_count": 1,
   "id": "dc604f95-3ee2-4025-853c-f330461277dd",
   "metadata": {},
   "outputs": [],
   "source": [
    "import os\n",
    "#import utils.data_and_nn_loader as dl\n",
    "from data_and_nn_loader import *\n",
    "import numpy as np\n",
    "import sklearn.metrics as skm\n",
    "import torch\n",
    "import torch.nn as nn\n",
    "import torch.optim as optim\n",
    "import torch.nn.functional as F\n",
    "\n",
    "#device = torch.device(\"cuda:0\")\n",
    "device = torch.device(\"cpu\")"
   ]
  },
  {
   "cell_type": "markdown",
   "id": "aa93301c-adcb-4c8f-ad8a-736887f007f7",
   "metadata": {},
   "source": [
    "### Plot parameters and utils functions"
   ]
  },
  {
   "cell_type": "code",
   "execution_count": 2,
   "id": "477fff2e-fdfb-4c20-9eee-0e1c7344df10",
   "metadata": {},
   "outputs": [],
   "source": [
    "#Set plot parameters\n",
    "import matplotlib.pyplot as plt\n",
    "import matplotlib.cm as cm\n",
    "from matplotlib.patches import Ellipse\n",
    "from ipywidgets import *\n",
    "%matplotlib widget\n",
    "fontsize_ticks = 10\n",
    "fontsize_axes = 15\n",
    "fontsize_legend = 15\n",
    "plt.rc('xtick', labelsize=fontsize_ticks)\n",
    "plt.rc('ytick', labelsize=fontsize_ticks)\n",
    "plt.rc('axes', labelsize=fontsize_axes)\n",
    "plt.rc('legend', fontsize=fontsize_legend)"
   ]
  },
  {
   "cell_type": "code",
   "execution_count": 28,
   "id": "0e4a2756-c0b2-4328-b10c-8cf40e930d5f",
   "metadata": {},
   "outputs": [],
   "source": [
    "def scatter(X, labels=None, ax=None, colors = None, named_labels = None, **kwargs):\n",
    "    \n",
    "    ax = ax or plt.gca()\n",
    "    ax.set_xticks([])\n",
    "    ax.set_yticks([])\n",
    "    \n",
    "    if labels is None:\n",
    "        if named_labels is None:\n",
    "            ax.scatter(X[:, 0].cpu().numpy(), X[:, 1].cpu().numpy(), color=colors,\n",
    "                       **kwargs)\n",
    "        else:\n",
    "            ax.scatter(X[:, 0].cpu().numpy(), X[:, 1].cpu().numpy(), color=colors,\n",
    "                       label = named_labels, **kwargs)            \n",
    "    \n",
    "    else:\n",
    "        ulabels = np.sort(np.unique(labels.cpu().numpy()))\n",
    "        colors = colors or cm.rainbow(np.linspace(0, 1, len(ulabels)))\n",
    "        if named_labels is None:\n",
    "            for (l, c) in zip(ulabels, colors):\n",
    "                ax.scatter(X[torch.where(labels==l)[0], 0].cpu().numpy(), X[torch.where(labels==l)[0], 1].cpu().numpy(), color=c,\n",
    "                        #edgecolor=c*0.6,\n",
    "                           **kwargs)\n",
    "        else:\n",
    "            for (l, c, nl) in zip(ulabels, colors, named_labels):\n",
    "                ax.scatter(X[torch.where(labels==l)[0], 0].cpu().numpy(), X[torch.where(labels==l)[0], 1].cpu().numpy(), color=c,\n",
    "                        label=nl, **kwargs)        \n",
    "\n",
    "        return ulabels, colors\n",
    "    \n",
    "def draw_ellipse(pos, cov, ax=None, **kwargs):\n",
    "    if type(pos) != np.ndarray:\n",
    "        pos = pos.cpu().numpy()\n",
    "    if type(cov) != np.ndarray:\n",
    "        cov = cov.cpu().numpy()\n",
    "    ax = ax or plt.gca()\n",
    "    U, s, Vt = np.linalg.svd(cov)\n",
    "    angle = np.degrees(np.arctan2(U[1,0], U[0,0]))\n",
    "    width, height = 2 * np.sqrt(s)\n",
    "    for nsig in range(1, 6):\n",
    "        ax.add_patch(Ellipse(pos, nsig*width, nsig*height, angle,\n",
    "            alpha=0.5/nsig, **kwargs))"
   ]
  },
  {
   "cell_type": "markdown",
   "id": "22d6588d-529e-4e16-9874-a7ac7189e77a",
   "metadata": {},
   "source": [
    "## Binary classification in 2D"
   ]
  },
  {
   "cell_type": "markdown",
   "id": "c706a080-5f83-4d61-b039-688e5c068cdf",
   "metadata": {},
   "source": [
    "### Generate dummy data"
   ]
  },
  {
   "cell_type": "code",
   "execution_count": null,
   "id": "f8e0b53e-cbd9-4e2d-8b80-7c7deb1d232a",
   "metadata": {},
   "outputs": [],
   "source": [
    "class Dummy2D:\n",
    "    def __init__(self, mup, sigmap, mun, sigman, N=300):\n",
    "        mup, sigmap= torch.tensor(mup), torch.tensor(sigmap)\n",
    "        mun, sigman = torch.tensor(mun), torch.tensor(sigman)\n",
    "\n",
    "\n",
    "        Xp = mup.unsqueeze(0).repeat(N, 1) + sigmap.unsqueeze(0).repeat(N, 1)*torch.randn(N, mup.size(0))\n",
    "        Xn = mun.unsqueeze(0).repeat(N, 1) + sigman.unsqueeze(0).repeat(N, 1)*torch.randn(N, mun.size(0))\n",
    "        X = torch.cat((Xp, Xn), 0)\n",
    "\n",
    "        labels = torch.zeros((X.size(0), 1))\n",
    "        labels[:N] = 1\n",
    "\n",
    "        perm_inds = torch.randperm(X.size(0))\n",
    "        X = X[perm_inds, :]\n",
    "        labels = labels[perm_inds]\n",
    "\n",
    "        params = {}\n",
    "        params['mup'] = mup\n",
    "        params['sigmap'] = sigmap\n",
    "        params['mun'] = mun\n",
    "        params['sigman'] = sigman\n",
    "\n",
    "        self.X = X\n",
    "        self.labels = labels\n",
    "        self.params = params\n",
    "\n",
    "\n",
    "    def draw(self, label_wise=True, **kwargs):\n",
    "        if label_wise:\n",
    "            if 'labels' in kwargs:\n",
    "                labels = kwargs['labels']\n",
    "                kwargs.pop('labels')\n",
    "            else:  \n",
    "                labels = self.labels\n",
    "            \n",
    "            ulabels, colors = scatter(self.X, labels=labels, **kwargs)\n",
    "            draw_ellipse(self.params['mun'], np.diag(self.params['sigman']**2), fc = colors[0])\n",
    "            draw_ellipse(self.params['mup'], np.diag(self.params['sigmap']**2), fc = colors[1])\n",
    "        \n",
    "        else:\n",
    "            draw_ellipse(self.params['mun'], np.diag(self.params['sigman']**2), fc = 'gray')\n",
    "            draw_ellipse(self.params['mup'], np.diag(self.params['sigmap']**2), fc = 'gray')\n",
    "            scatter(self.X, **kwargs)"
   ]
  },
  {
   "cell_type": "code",
   "execution_count": null,
   "id": "1ca63de7-3501-4c08-951b-b9d064e1710a",
   "metadata": {},
   "outputs": [],
   "source": [
    "#Generate dummy training data\n",
    "dummy = Dummy2D([0, 0], [2, 1], [3, 3], [1, 3])\n",
    "\n",
    "#Generate test data\n",
    "dummy_test = Dummy2D([0, 0], [2, 1], [3, 3], [1, 3])\n",
    "\n",
    "#Generate \"out-of-distribution\" data\n",
    "dummy_out = Dummy2D([6, -5], [3, 0.3], [1, -2], [1.5, 2])"
   ]
  },
  {
   "cell_type": "code",
   "execution_count": null,
   "id": "fb512b30-0665-4fe7-b529-7213d596d260",
   "metadata": {},
   "outputs": [],
   "source": [
    "#Draw dummy training data\n",
    "fig = plt.figure(figsize=(9, 5))\n",
    "dummy.draw(named_labels=['Class 1', 'Class 2'])\n",
    "plt.show()"
   ]
  },
  {
   "cell_type": "code",
   "execution_count": null,
   "id": "df8991b4-d61f-42a3-84f3-26ec2b1a55c1",
   "metadata": {},
   "outputs": [],
   "source": [
    "#Draw dummy test data\n",
    "fig = plt.figure(figsize=(9, 5))\n",
    "dummy_test.draw(named_labels='Test data', colors = 'black', label_wise=False)\n",
    "plt.legend()"
   ]
  },
  {
   "cell_type": "code",
   "execution_count": null,
   "id": "80a0cdf6-23f8-40ee-83eb-1e81df67fffb",
   "metadata": {},
   "outputs": [],
   "source": [
    "#Draw in-distribution and out-of-distribution dummy data\n",
    "fig = plt.figure(figsize=(9, 5))\n",
    "\n",
    "dummy.draw(label_wise=False, colors='gray',named_labels='In data')\n",
    "dummy_out.draw(named_labels=['Out data (class 1)', 'Out data (class 2)'])\n",
    "\n",
    "plt.legend()"
   ]
  },
  {
   "cell_type": "markdown",
   "id": "bc2eac38-c552-495c-8c2b-864bb429c4ff",
   "metadata": {},
   "source": [
    "### Train a logistic classifier"
   ]
  },
  {
   "cell_type": "code",
   "execution_count": null,
   "id": "2d6eccc4-ceb3-4b4a-be83-aa8d6d61487f",
   "metadata": {},
   "outputs": [],
   "source": [
    "class Net(nn.Module):\n",
    "    def __init__(self):\n",
    "        super(Net, self).__init__()\n",
    "        self.w = nn.Linear(2, 1)\n",
    "        self.out = nn.Sigmoid()\n",
    "\n",
    "    def forward(self, x):\n",
    "        x = self.out(self.w(x))\n",
    "        return x\n",
    "    \n",
    "    def draw_decision_boundary(self, ax=None, **kwargs):\n",
    "        w = list(self.parameters())\n",
    "        w0 = w[0].data.cpu().numpy()\n",
    "        w1 = w[1].data.cpu().numpy()\n",
    "        xlim = plt.gca().get_xlim() if ax is None else ax.get_xlim()\n",
    "        x_axis = np.linspace(xlim[0], xlim[1], 300)\n",
    "        y_axis = -(w1[0] + x_axis*w0[0][0]) / w0[0][1]\n",
    "        plt.plot(x_axis, y_axis, **kwargs)\n",
    "\n",
    "\n",
    "def train(net, optimizer, criterion, data, targets):\n",
    "    net.train()\n",
    "    optimizer.zero_grad()\n",
    "    loss = criterion(net(data), targets)\n",
    "    loss.backward()\n",
    "    optimizer.step()\n",
    "        \n",
    "        \n",
    "def eval(net, data, targets, verbose=True):\n",
    "    net.eval()\n",
    "    y = net(data)\n",
    "    pred = torch.where(y >= 0.5, torch.ones_like(y), torch.zeros_like(y))\n",
    "    N_tot = len(data)\n",
    "    N_correct = (pred == targets).sum().item()\n",
    "    accuracy = 100*(1/N_tot)*N_correct\n",
    "    if verbose:\n",
    "        print('Train accuracy: {:2f} % ({} out of {})'.format(accuracy, N_correct, N_tot))\n",
    "    return pred, accuracy"
   ]
  },
  {
   "cell_type": "code",
   "execution_count": null,
   "id": "e296111f-41ce-4c23-b031-e37ec5d93d25",
   "metadata": {},
   "outputs": [],
   "source": [
    "net = Net()        \n",
    "optimizer = optim.SGD(net.parameters(), lr = 0.1)\n",
    "criterion = nn.BCELoss()\n",
    "n_epochs = 100\n",
    "\n",
    "X = dummy.X\n",
    "labels = dummy.labels\n",
    "\n",
    "net = net.to(device)\n",
    "X = X.to(device)\n",
    "labels = labels.to(device) \n",
    "\n",
    "\n",
    "for epoch in range(n_epochs):\n",
    "    train(net, optimizer, criterion, X, labels)\n",
    "    \n",
    "    if (epoch + 1) % 20 == 0 : \n",
    "        print('Epoch {}'.format(epoch + 1))\n",
    "        eval(net, X, labels)"
   ]
  },
  {
   "cell_type": "markdown",
   "id": "f05fa16f-1df0-4c25-903d-665d32434d0c",
   "metadata": {},
   "source": [
    "### Looking at the mistakes of the classifier"
   ]
  },
  {
   "cell_type": "code",
   "execution_count": null,
   "id": "b6983376-638d-4ff0-a098-1f16299c00b5",
   "metadata": {},
   "outputs": [],
   "source": [
    "net.eval()\n",
    "pred, _ = eval(net, dummy.X, labels, verbose=False)\n",
    "errors = (pred != dummy.labels).type(torch.uint8)\n",
    "y_correct = pred[torch.where(errors==0)[0], :]\n",
    "y_incorrect = pred[torch.where(errors==1)[0], :]"
   ]
  },
  {
   "cell_type": "code",
   "execution_count": null,
   "id": "db2014f0-a336-4db3-8c01-35d48b8d130c",
   "metadata": {},
   "outputs": [],
   "source": [
    "fig = plt.figure(figsize=(9, 5))\n",
    "\n",
    "dummy.draw(labels=pred, named_labels=['Class 1', 'Class 2'])\n",
    "net.draw_decision_boundary(color='black', linestyle='--', linewidth=2, alpha=0.5)\n",
    "\n",
    "plt.legend()"
   ]
  },
  {
   "cell_type": "code",
   "execution_count": null,
   "id": "753dfb64-a55c-4c94-bb46-e357a7ddd615",
   "metadata": {},
   "outputs": [],
   "source": [
    "fig = plt.figure(figsize=(9, 5))\n",
    "\n",
    "dummy.draw(label_wise=False, \n",
    "           labels=errors, \n",
    "           colors=['green', 'red'], \n",
    "           named_labels=['Correct', 'Incorrect']\n",
    "          )\n",
    "\n",
    "net.draw_decision_boundary(color='black', linestyle='--', linewidth=2, alpha=0.5)\n",
    "plt.legend()"
   ]
  },
  {
   "cell_type": "code",
   "execution_count": null,
   "id": "dba1a39b-87fe-4407-b62f-7d6e6da350cf",
   "metadata": {},
   "outputs": [],
   "source": [
    "fig = plt.figure(figsize=(10, 3))\n",
    "plt.subplot(1, 3, 1)\n",
    "dummy.draw(label_wise=False, \n",
    "           labels=errors, \n",
    "           colors=['green', 'red'], \n",
    "           named_labels=['Correct', 'Incorrect']\n",
    "          )\n",
    "net.draw_decision_boundary(color='black', linestyle='--', linewidth=2, alpha=0.5)\n",
    "plt.legend(prop={'size': 8})\n",
    "\n",
    "\n",
    "x = 1 + np.arange(2)\n",
    "plt.subplot(1, 3, 2)\n",
    "ind_correct = np.random.randint(y_correct.size(0))\n",
    "single_out_correct = torch.cat((y_correct[ind_correct, :], 1 - y_correct[ind_correct, :]), 0)\n",
    "plt.bar(x, single_out_correct.detach().cpu().numpy(), alpha = 0.5, color = 'green')\n",
    "plt.xticks(1 + np.arange(2))\n",
    "plt.ylim((0, 1))\n",
    "plt.xlabel('Class')\n",
    "plt.title('Output of an correctly classified point', fontsize=10)\n",
    "\n",
    "\n",
    "plt.subplot(1, 3, 3)\n",
    "ind_incorrect = np.random.randint(y_incorrect.size(0))\n",
    "single_out_incorrect = torch.cat((y_incorrect[ind_incorrect, :], 1 - y_incorrect[ind_incorrect, :]), 0)\n",
    "plt.bar(x, single_out_incorrect.detach().cpu().numpy(), alpha = 0.5, color = 'red')\n",
    "plt.xticks(1 + np.arange(2))\n",
    "plt.ylim((0, 1))\n",
    "plt.xlabel('Class')\n",
    "plt.title('Output of an incorrectly classified point', fontsize=10)\n",
    "\n",
    "plt.subplots_adjust(hspace = 0.5)\n",
    "fig.tight_layout()"
   ]
  },
  {
   "cell_type": "markdown",
   "id": "27f277e2-a3c0-40d2-88d2-28535f8d56e3",
   "metadata": {},
   "source": [
    "### Looking at out-of-distribution data"
   ]
  },
  {
   "cell_type": "code",
   "execution_count": null,
   "id": "74503812-affe-46e4-8b1c-984befe68676",
   "metadata": {},
   "outputs": [],
   "source": [
    "fig = plt.figure(figsize=(9, 5))\n",
    "plt.xlim((-11, 25))\n",
    "plt.ylim((-18, 19))\n",
    "\n",
    "\n",
    "dummy.draw(label_wise=False, colors='gray', named_labels='In data')\n",
    "dummy_out.draw()\n",
    "net.draw_decision_boundary(color='black', linestyle='--', linewidth=2, alpha=0.5)\n",
    "\n",
    "#plt.legend()"
   ]
  },
  {
   "cell_type": "code",
   "execution_count": null,
   "id": "0e693ccd-af25-4be0-b313-b5434c722890",
   "metadata": {},
   "outputs": [],
   "source": [
    "fig = plt.figure(figsize=(9, 5))\n",
    "plt.xlim((-11, 25))\n",
    "plt.ylim((-18, 19))\n",
    "\n",
    "dummy.draw(label_wise='False', colors='green', named_labels=['In data'])\n",
    "dummy_out.draw(label_wise=False, colors='red', named_labels='Out data')\n",
    "net.draw_decision_boundary(color='black', linestyle='--', linewidth=2, alpha=0.5)\n",
    "\n",
    "plt.legend()"
   ]
  },
  {
   "cell_type": "code",
   "execution_count": null,
   "id": "51daed1b-520f-4f92-badc-98f9de7f0b44",
   "metadata": {},
   "outputs": [],
   "source": [
    "fig = plt.figure(figsize=(10, 3))\n",
    "\n",
    "plt.subplot(1, 3, 1)\n",
    "\n",
    "plt.xlim((-11, 25))\n",
    "plt.ylim((-18, 19))\n",
    "\n",
    "dummy.draw(label_wise='False', colors='green', named_labels=['In data'])\n",
    "dummy_out.draw(label_wise=False, colors='red', named_labels='Out data')\n",
    "net.draw_decision_boundary(color='black', linestyle='--', linewidth=2, alpha=0.5)\n",
    "plt.legend(prop={'size': 8})\n",
    "\n",
    "\n",
    "x = 1 + np.arange(2)\n",
    "\n",
    "plt.subplot(1, 3, 2)\n",
    "net.eval()\n",
    "y = net(dummy.X)\n",
    "ind_in = np.random.randint(y.size(0))\n",
    "single_out_in = torch.cat((y[ind_in, :], 1 - y[ind_in, :]), 0)\n",
    "\n",
    "plt.bar(x, single_out_in.detach().cpu().numpy(), alpha = 0.5, color = 'green')\n",
    "plt.xticks(1 + np.arange(2))\n",
    "plt.ylim((0, 1))\n",
    "plt.xlabel('Class')\n",
    "plt.title('Output of an in data', fontsize=10)\n",
    "\n",
    "\n",
    "plt.subplot(1, 3, 3)\n",
    "net.eval()\n",
    "y_out = net(dummy_out.X)\n",
    "ind_out = np.random.randint(y_out.size(0))\n",
    "single_out_out = torch.cat((y_out[ind_out, :], 1 - y_out[ind_out, :]), 0)\n",
    "plt.bar(x, single_out_out.detach().cpu().numpy(), alpha = 0.5, color = 'red')\n",
    "plt.xticks(1 + np.arange(2))\n",
    "plt.ylim((0, 1))\n",
    "plt.xlabel('Class')\n",
    "plt.title('Output of an out data', fontsize=10)\n",
    "\n",
    "plt.subplots_adjust(hspace = 0.5)\n",
    "fig.tight_layout()"
   ]
  },
  {
   "cell_type": "markdown",
   "id": "008aa794-79ba-4901-ad5c-595737c513ed",
   "metadata": {},
   "source": [
    "# Image classification"
   ]
  },
  {
   "cell_type": "markdown",
   "id": "e2f08c8a-25dd-43f0-813d-8634d4479dd8",
   "metadata": {},
   "source": [
    "### Load DenseNet-10 pre-trained on CIFAR-10 (in dataset) and ImageNet (out dataset)"
   ]
  },
  {
   "cell_type": "code",
   "execution_count": 13,
   "id": "4b983a45-81a0-4e21-89e4-a090dd9a47d0",
   "metadata": {},
   "outputs": [
    {
     "name": "stderr",
     "output_type": "stream",
     "text": [
      "[INFO] data_and_nn_loader - model /Users/ernoult/tutorial_OOD_ED_ESIEE/pre_trained/densenet10.pth loaded\n",
      "/Users/ernoult/opt/anaconda3/envs/ood/lib/python3.8/site-packages/torch/serialization.py:656: SourceChangeWarning: source code of class 'densenet.DenseNet3' has changed. you can retrieve the original source code by accessing the object's source attribute or set `torch.nn.Module.dump_patches = True` and use the patch tool to revert the changes.\n",
      "  warnings.warn(msg, SourceChangeWarning)\n",
      "/Users/ernoult/opt/anaconda3/envs/ood/lib/python3.8/site-packages/torch/serialization.py:656: SourceChangeWarning: source code of class 'torch.nn.modules.conv.Conv2d' has changed. you can retrieve the original source code by accessing the object's source attribute or set `torch.nn.Module.dump_patches = True` and use the patch tool to revert the changes.\n",
      "  warnings.warn(msg, SourceChangeWarning)\n",
      "/Users/ernoult/opt/anaconda3/envs/ood/lib/python3.8/site-packages/torch/serialization.py:656: SourceChangeWarning: source code of class 'densenet.DenseBlock' has changed. you can retrieve the original source code by accessing the object's source attribute or set `torch.nn.Module.dump_patches = True` and use the patch tool to revert the changes.\n",
      "  warnings.warn(msg, SourceChangeWarning)\n",
      "/Users/ernoult/opt/anaconda3/envs/ood/lib/python3.8/site-packages/torch/serialization.py:656: SourceChangeWarning: source code of class 'torch.nn.modules.container.Sequential' has changed. you can retrieve the original source code by accessing the object's source attribute or set `torch.nn.Module.dump_patches = True` and use the patch tool to revert the changes.\n",
      "  warnings.warn(msg, SourceChangeWarning)\n",
      "/Users/ernoult/opt/anaconda3/envs/ood/lib/python3.8/site-packages/torch/serialization.py:656: SourceChangeWarning: source code of class 'densenet.BottleneckBlock' has changed. you can retrieve the original source code by accessing the object's source attribute or set `torch.nn.Module.dump_patches = True` and use the patch tool to revert the changes.\n",
      "  warnings.warn(msg, SourceChangeWarning)\n",
      "/Users/ernoult/opt/anaconda3/envs/ood/lib/python3.8/site-packages/torch/serialization.py:656: SourceChangeWarning: source code of class 'torch.nn.modules.batchnorm.BatchNorm2d' has changed. you can retrieve the original source code by accessing the object's source attribute or set `torch.nn.Module.dump_patches = True` and use the patch tool to revert the changes.\n",
      "  warnings.warn(msg, SourceChangeWarning)\n",
      "/Users/ernoult/opt/anaconda3/envs/ood/lib/python3.8/site-packages/torch/serialization.py:656: SourceChangeWarning: source code of class 'torch.nn.modules.activation.ReLU' has changed. you can retrieve the original source code by accessing the object's source attribute or set `torch.nn.Module.dump_patches = True` and use the patch tool to revert the changes.\n",
      "  warnings.warn(msg, SourceChangeWarning)\n",
      "/Users/ernoult/opt/anaconda3/envs/ood/lib/python3.8/site-packages/torch/serialization.py:656: SourceChangeWarning: source code of class 'densenet.TransitionBlock' has changed. you can retrieve the original source code by accessing the object's source attribute or set `torch.nn.Module.dump_patches = True` and use the patch tool to revert the changes.\n",
      "  warnings.warn(msg, SourceChangeWarning)\n",
      "/Users/ernoult/opt/anaconda3/envs/ood/lib/python3.8/site-packages/torch/serialization.py:656: SourceChangeWarning: source code of class 'torch.nn.modules.linear.Linear' has changed. you can retrieve the original source code by accessing the object's source attribute or set `torch.nn.Module.dump_patches = True` and use the patch tool to revert the changes.\n",
      "  warnings.warn(msg, SourceChangeWarning)\n"
     ]
    },
    {
     "name": "stdout",
     "output_type": "stream",
     "text": [
      "Files already downloaded and verified\n"
     ]
    },
    {
     "name": "stderr",
     "output_type": "stream",
     "text": [
      "[INFO] data_and_nn_loader - dataset CIFAR10 loaded with batch size 128\n",
      "[INFO] data_and_nn_loader - dataset Imagenet_resize loaded with batch size 128\n"
     ]
    }
   ],
   "source": [
    "nn_name = \"densenet10\"\n",
    "in_dataset_name = \"CIFAR10\"\n",
    "out_dataset_name = \"Imagenet_resize\"\n",
    "\n",
    "batch_size = 128\n",
    "gpu = None\n",
    "#gpu=0\n",
    "#device = torch.device(\"cuda:0\")\n",
    "\n",
    "#Load model\n",
    "#model = dl.load_pre_trained_nn(nn_name, gpu)\n",
    "model = load_pre_trained_nn(nn_name, gpu)\n",
    "\n",
    "#Load in-distribution test data\n",
    "#in_dataloader = dl.test_dataloader(in_dataset_name, transform_name=in_dataset_name, batch_size=batch_size)\n",
    "in_dataloader = test_dataloader(in_dataset_name, transform_name=in_dataset_name, batch_size=batch_size)\n",
    "\n",
    "\n",
    "#Load out-distribution test data\n",
    "#out_dataloader = dl.test_dataloader(out_dataset_name, in_dataset_name, batch_size=batch_size)\n",
    "out_dataloader = test_dataloader(out_dataset_name, in_dataset_name, batch_size=batch_size)"
   ]
  },
  {
   "cell_type": "markdown",
   "id": "329161ac-498a-4592-b5b0-5557b58a80eb",
   "metadata": {},
   "source": [
    "### Defining Out-of-Distribution scores"
   ]
  },
  {
   "cell_type": "code",
   "execution_count": 14,
   "id": "0ec7b789-72d5-40a6-8f36-cf491e9e7492",
   "metadata": {},
   "outputs": [],
   "source": [
    "#Define different scores\n",
    "def msp(logits, *args, **kwargs):\n",
    "    return torch.max(F.softmax(logits, dim=1), dim=1)[0]\n",
    "\n",
    "\n",
    "def odin(logits, *args, **kwargs):\n",
    "    \n",
    "    temperature=kwargs['T'] if 'T' in kwargs else 1\n",
    "    \n",
    "    return torch.max(F.softmax(logits / temperature, dim=1), dim=1)[0]\n",
    "\n",
    "\n",
    "def energy(logits, temperature, *args, **kwargs):\n",
    "    return temperature * torch.log(torch.sum(torch.exp(logits / temperature), dim=1))"
   ]
  },
  {
   "cell_type": "markdown",
   "id": "943fbc7f-722d-413b-90ce-7b60ea07c065",
   "metadata": {},
   "source": [
    "# Example: Maximum Softmax Probability (MSP)"
   ]
  },
  {
   "cell_type": "markdown",
   "id": "46e6097b-1c35-4209-a537-8e581369ca31",
   "metadata": {},
   "source": [
    "### Intuition"
   ]
  },
  {
   "cell_type": "code",
   "execution_count": null,
   "id": "f64e74a4-a20b-49b6-8234-c8d819d5e05c",
   "metadata": {},
   "outputs": [],
   "source": [
    "_, (x_in, _) = next(enumerate(in_dataloader))\n",
    "_, (x_out, _) = next(enumerate(out_dataloader))\n",
    "\n",
    "with torch.no_grad():\n",
    "    x_in = x_in.to(device)\n",
    "    x_out = x_out.to(device)\n",
    "    logits_in = model(x_in)\n",
    "    logits_out = model(x_out)\n",
    "    y_in = F.softmax(logits_in, dim=1)\n",
    "    y_out = F.softmax(logits_out, dim=1)\n",
    "\n",
    "ind = np.random.randint(y_in.size(0))\n",
    "\n",
    "x = 1 + np.arange(y_in[ind, :].size(0))\n",
    "\n",
    "fig = plt.figure(figsize = (10, 3))\n",
    "plt.subplot(1, 2, 1)\n",
    "_, max_in = torch.max(y_in[ind, :], 0)\n",
    "\n",
    "plt.bar(x, y_in[ind, :].detach().cpu().numpy(), alpha = 0.5)\n",
    "plt.bar((max_in + 1).cpu().numpy(), y_in[ind, max_in].detach().cpu().numpy(), alpha = 0.5, color = 'purple')\n",
    "\n",
    "plt.xticks(1 + np.arange(10))\n",
    "plt.ylim((0, 1))\n",
    "plt.title('In sample', fontsize=15)\n",
    "plt.xlabel('Class')\n",
    "\n",
    "plt.subplot(1, 2, 2)\n",
    "_, max_out = torch.max(y_out[ind, :], 0)\n",
    "\n",
    "plt.bar(x, y_out[ind, :].detach().cpu().numpy(), alpha = 0.5)\n",
    "plt.bar((max_out + 1).cpu().numpy(), y_out[ind, max_out].detach().cpu().numpy(), alpha = 0.5, color = 'purple')\n",
    "\n",
    "plt.xticks(1 + np.arange(10))\n",
    "plt.ylim((0, 1))\n",
    "plt.title('Out sample', fontsize=15)\n",
    "plt.xlabel('Class')\n",
    "plt.tight_layout()"
   ]
  },
  {
   "cell_type": "markdown",
   "id": "f324290d-5600-4ded-aa00-2e2c49366477",
   "metadata": {},
   "source": [
    "### Compute scores"
   ]
  },
  {
   "cell_type": "code",
   "execution_count": null,
   "id": "bdf4e55a-82e2-4e12-9ad0-8f0356c311a4",
   "metadata": {},
   "outputs": [],
   "source": [
    "def compute_odd_scores(model, func, in_dataloader, out_dataloader, requires_grad=False, **kwargs):\n",
    "    \n",
    "    if not requires_grad:\n",
    "        with torch.no_grad():\n",
    "            scores_in = []\n",
    "            for _, (x_in, _) in enumerate(in_dataloader):\n",
    "                x_in = x_in.to(device)\n",
    "                scores_in += func(model(x_in), **kwargs)\n",
    "\n",
    "            scores_in = torch.vstack(scores_in).squeeze(1).cpu().numpy()\n",
    "\n",
    "            scores_out = []\n",
    "            for _, (x_out, _) in enumerate(out_dataloader):\n",
    "                x_out = x_out.to(device)\n",
    "                scores_out += func(model(x_out), **kwargs)\n",
    "            scores_out = torch.vstack(scores_out).squeeze(1).cpu().numpy()\n",
    "    \n",
    "    else:\n",
    "        eps = kwargs['eps']\n",
    "        scores_in = []\n",
    "        for _, (x_in, _) in enumerate(in_dataloader):\n",
    "            x_in = x_in.to(device)\n",
    "            x_in.requires_grad = True\n",
    "            scores_tmp = func(model(x_in), **kwargs)\n",
    "            init_grad = torch.tensor([1 for i in range(scores_tmp.size(0))], dtype=torch.float, device=device, requires_grad=True)\n",
    "            grad = torch.autograd.grad(scores_tmp, x_in, grad_outputs=init_grad, retain_graph = True)[0]\n",
    "            x_pert = (x_in + eps*torch.sign(grad)).detach()\n",
    "            scores_in += func(model(x_pert), **kwargs).detach()\n",
    "            \n",
    "\n",
    "        scores_in = torch.vstack(scores_in).squeeze(1).cpu().numpy()\n",
    "\n",
    "        scores_out = []\n",
    "        for _, (x_out, _) in enumerate(out_dataloader):\n",
    "            x_out = x_out.to(device)\n",
    "            x_out.requires_grad = True\n",
    "            scores_tmp = func(model(x_out), **kwargs)\n",
    "            init_grad = torch.tensor([1 for i in range(scores_tmp.size(0))], dtype=torch.float, device=device, requires_grad=True)\n",
    "            grad = torch.autograd.grad(scores_tmp, x_out, grad_outputs=init_grad, retain_graph = True)[0]\n",
    "            x_pert = (x_out + eps*torch.sign(grad)).detach()\n",
    "            scores_out += func(model(x_pert), **kwargs).detach()\n",
    "            \n",
    "        scores_out = torch.vstack(scores_out).squeeze(1).cpu().numpy()        \n",
    "\n",
    "    return scores_in, scores_out"
   ]
  },
  {
   "cell_type": "code",
   "execution_count": null,
   "id": "74b53aa3-a1c3-49e6-95ee-2f28e0bca842",
   "metadata": {},
   "outputs": [],
   "source": [
    "#Compute scores over the whole test in-distribution and out-of-distribution sets\n",
    "scores_in, scores_out = compute_odd_scores(model, msp, in_dataloader, out_dataloader)"
   ]
  },
  {
   "cell_type": "code",
   "execution_count": null,
   "id": "b2bc1d4c-9346-48be-bef5-447d83b48832",
   "metadata": {},
   "outputs": [],
   "source": [
    "#Save the scores if you wish\n",
    "PATH = os.getcwd() + '/scores'\n",
    "results = {}\n",
    "results['in'] = scores_in\n",
    "results['out'] = scores_out\n",
    "torch.save(results, PATH + '/msp.pt')"
   ]
  },
  {
   "cell_type": "code",
   "execution_count": 15,
   "id": "371f561c-cf05-4b7e-bd73-a86c411392e4",
   "metadata": {},
   "outputs": [
    {
     "data": {
      "application/vnd.jupyter.widget-view+json": {
       "model_id": "4c39aafac3fc4f25970cd64a0a68e883",
       "version_major": 2,
       "version_minor": 0
      },
      "text/plain": [
       "Canvas(toolbar=Toolbar(toolitems=[('Home', 'Reset original view', 'home', 'home'), ('Back', 'Back to previous …"
      ]
     },
     "metadata": {},
     "output_type": "display_data"
    }
   ],
   "source": [
    "#Plot the resulting histograms\n",
    "PATH = os.getcwd() + '/scores'\n",
    "\n",
    "results = torch.load(PATH + '/msp.pt')\n",
    "\n",
    "scores_in = results['in']\n",
    "scores_out = results['out']\n",
    "\n",
    "fig = plt.figure(figsize = (10, 3))\n",
    "\n",
    "bins=np.histogram(np.hstack((scores_in, scores_out)), bins=60)[1]\n",
    "plt.hist(scores_in, bins, alpha=0.5, label = 'Scores in', density=True, color='green')\n",
    "plt.hist(scores_out, bins, alpha=0.5, label = 'Scores out', density=True, color='red')\n",
    "\n",
    "thr=0.9\n",
    "ylim = plt.gca().get_ylim()\n",
    "plt.plot(thr*np.ones(300), np.linspace(0, ylim[1], 300), color='red')\n",
    "\n",
    "plt.ylabel('Density')\n",
    "plt.xlabel('Score')\n",
    "plt.legend(loc='best')\n",
    "fig.tight_layout()"
   ]
  },
  {
   "cell_type": "code",
   "execution_count": 16,
   "id": "248d4733-5c9b-461d-b534-ebf10bd9b1ee",
   "metadata": {},
   "outputs": [
    {
     "data": {
      "application/vnd.jupyter.widget-view+json": {
       "model_id": "0e9908d373bd4a71b0129cbfb40a5c55",
       "version_major": 2,
       "version_minor": 0
      },
      "text/plain": [
       "Canvas(toolbar=Toolbar(toolitems=[('Home', 'Reset original view', 'home', 'home'), ('Back', 'Back to previous …"
      ]
     },
     "metadata": {},
     "output_type": "display_data"
    }
   ],
   "source": [
    "fig = plt.figure(figsize = (10, 3))\n",
    "\n",
    "plt.hist(scores_in, alpha=0.5, bins=list(np.linspace(0.999, 1, 30)), label = 'Scores in', color='green', density=True)\n",
    "plt.hist(scores_out, alpha=0.5, bins=list(np.linspace(0.999, 1, 30)), label = 'Scores out', color='red', density=True)\n",
    "\n",
    "thr=0.9998\n",
    "ylim = plt.gca().get_ylim()\n",
    "plt.plot(thr*np.ones(300), np.linspace(0, ylim[1], 300), color='red')\n",
    "\n",
    "plt.ylabel('Density')\n",
    "plt.xlabel('Score')\n",
    "plt.legend(loc='best')\n",
    "fig.tight_layout()"
   ]
  },
  {
   "cell_type": "markdown",
   "id": "341ca3f4-5e7a-40d4-9603-9470f3ed98c9",
   "metadata": {},
   "source": [
    "### Threshold calibration"
   ]
  },
  {
   "cell_type": "code",
   "execution_count": 17,
   "id": "1729143e-f514-4797-b902-690d8ba46e15",
   "metadata": {},
   "outputs": [],
   "source": [
    "def compute_metrics(scores_in, scores_out, verbose=True):\n",
    "    #Plot TPR-FPR and P-R curves\n",
    "    pos = np.ones(len(scores_in))\n",
    "    neg = np.zeros(len(scores_out))\n",
    "    y_true = np.concatenate([pos, neg]).reshape(-1)\n",
    "    y_pred = np.concatenate([scores_in, scores_out]).reshape(-1)\n",
    "\n",
    "    #Compute FP and TP rates for varying thresholds\n",
    "    fprs, tprs, thresholds = skm.roc_curve(y_true, y_pred, pos_label=1)  # fpr: s > thr\n",
    "\n",
    "    #Compute precision and recall for varying thresholds\n",
    "    prs = tprs[1:]/(fprs[1:] + tprs[1:])\n",
    "    rcls = tprs[1:]\n",
    "    \n",
    "    #Compute FPR at TPR = 0.95\n",
    "    TPR=0.95\n",
    "    FPR_AT_TPR = np.interp(TPR, tprs, fprs)\n",
    "    \n",
    "    #Compute AUROC\n",
    "    auroc = np.trapz(tprs, fprs)\n",
    "\n",
    "    #Compute AUPR\n",
    "    aupr = skm.average_precision_score(y_true, y_pred)\n",
    "\n",
    "    #Compute detection error\n",
    "    detection_error = 0.5*FPR_AT_TPR + 0.5*(1 - TPR)\n",
    "    \n",
    "    \n",
    "    if verbose:\n",
    "        print('FPR at TPR=0.95: {:.2f}'.format(FPR_AT_TPR))\n",
    "        print('AUROC: {:.2f}'.format(auroc))\n",
    "        print('AUPR: {:.2f}'.format(aupr))\n",
    "        print('Detection error: {:.2f}'.format(detection_error))\n",
    "        \n",
    "    \n",
    "    metrics = {}\n",
    "    metrics['fprs'] = fprs\n",
    "    metrics['tprs'] = tprs\n",
    "    metrics['thresholds'] = thresholds\n",
    "    metrics['rcls'] = rcls\n",
    "    metrics['prs'] = prs\n",
    "    \n",
    "    metrics['TPR'] = TPR\n",
    "    metrics['FPR_AT_TPR'] = FPR_AT_TPR\n",
    "    metrics['auroc'] = auroc\n",
    "    metrics['aupr'] = aupr\n",
    "    metrics['detection_error'] = detection_error\n",
    "    \n",
    "    return metrics\n",
    "\n",
    "def animation_ROC_PR(scores_in, scores_out):\n",
    "    \n",
    "    metrics = compute_metrics(scores_in, scores_out)\n",
    "    fprs, tprs, thresholds, rcls, prs = metrics['fprs'], metrics['tprs'], metrics['thresholds'], metrics['rcls'], metrics['prs']\n",
    "    \n",
    "    ind = 1\n",
    "    ax1 = fig.add_subplot(1,3,1)\n",
    "    thr = thresholds[ind]\n",
    "    bins=np.histogram(np.hstack((scores_in, scores_out)), bins=60)[1]\n",
    "    plt.hist(scores_in, bins, alpha=0.5, label = 'Scores in', color='green', density=True)\n",
    "    plt.hist(scores_out, bins, alpha=0.5, label = 'Scores out', color='red', density=True)\n",
    "\n",
    "    ylim = plt.gca().get_ylim()\n",
    "\n",
    "    line1, = ax1.plot(thr*np.ones(300), np.linspace(0, ylim[1], 300), color='red')\n",
    "\n",
    "    ax2 = fig.add_subplot(1, 3, 2)\n",
    "    plt.plot(fprs, tprs, linewidth=3, alpha=0.8)\n",
    "\n",
    "    line2 = ax2.scatter(fprs[ind], tprs[ind], color = 'red', s=60)\n",
    "\n",
    "    plt.xlabel('False Positive Rate')\n",
    "    plt.ylabel('True Positive Rate')\n",
    "    plt.ylim((0, 1.05))\n",
    "    plt.xlim((-0.05, 1.05))\n",
    "    plt.title('ROC curve', fontsize=20)\n",
    "    plt.grid()\n",
    "\n",
    "    ax3 = fig.add_subplot(1, 3, 3)\n",
    "    plt.plot(rcls, prs, linewidth=3, alpha=0.8)\n",
    "\n",
    "    line3 = ax3.scatter(rcls[ind], prs[ind], color = 'red', s=60)\n",
    "\n",
    "    plt.xlabel('Recall')\n",
    "    plt.ylabel('Precision')\n",
    "    plt.ylim((0, 1.05))\n",
    "    plt.title('PR curve', fontsize=20)\n",
    "    plt.grid()\n",
    "\n",
    "    plt.subplots_adjust(hspace = 0.5)\n",
    "    fig.tight_layout()\n",
    "\n",
    "\n",
    "    def update(ind = 1):\n",
    "        line1.set_xdata(thresholds[ind]*np.ones(300))\n",
    "\n",
    "        line2.set_offsets((fprs[ind], tprs[ind]))\n",
    "\n",
    "        line3.set_offsets((rcls[ind], prs[ind]))\n",
    "\n",
    "        fig.canvas.draw_idle()\n",
    "\n",
    "    interact(update,ind=(1, len(thresholds) - 2));"
   ]
  },
  {
   "cell_type": "code",
   "execution_count": 18,
   "id": "7ced1963-0032-418a-afb5-77fff14ba10d",
   "metadata": {},
   "outputs": [
    {
     "name": "stdout",
     "output_type": "stream",
     "text": [
      "FPR at TPR=0.95: 0.41\n",
      "AUROC: 0.94\n",
      "AUPR: 0.95\n",
      "Detection error: 0.23\n"
     ]
    }
   ],
   "source": [
    "#Plot TPR-FPR and P-R curves\n",
    "metrics = compute_metrics(scores_in, scores_out)"
   ]
  },
  {
   "cell_type": "code",
   "execution_count": 19,
   "id": "0b71eec5-9913-4987-9ccf-26c9a495f1c8",
   "metadata": {},
   "outputs": [
    {
     "data": {
      "application/vnd.jupyter.widget-view+json": {
       "model_id": "760bdb29476d4eda86ac735a27054464",
       "version_major": 2,
       "version_minor": 0
      },
      "text/plain": [
       "Canvas(toolbar=Toolbar(toolitems=[('Home', 'Reset original view', 'home', 'home'), ('Back', 'Back to previous …"
      ]
     },
     "metadata": {},
     "output_type": "display_data"
    },
    {
     "name": "stdout",
     "output_type": "stream",
     "text": [
      "FPR at TPR=0.95: 0.41\n",
      "AUROC: 0.94\n",
      "AUPR: 0.95\n",
      "Detection error: 0.23\n"
     ]
    },
    {
     "data": {
      "application/vnd.jupyter.widget-view+json": {
       "model_id": "6de0b1e3424c4d48b16e78197fd5f3ac",
       "version_major": 2,
       "version_minor": 0
      },
      "text/plain": [
       "interactive(children=(IntSlider(value=1, description='ind', max=3864, min=1), Output()), _dom_classes=('widget…"
      ]
     },
     "metadata": {},
     "output_type": "display_data"
    }
   ],
   "source": [
    "fig = plt.figure(figsize=(12, 3))\n",
    "animation_ROC_PR(scores_in, scores_out)"
   ]
  },
  {
   "cell_type": "markdown",
   "id": "2fd365ab-f0aa-4002-a506-7bdcbc98057c",
   "metadata": {},
   "source": [
    "### Understand the evaluation metrics"
   ]
  },
  {
   "cell_type": "code",
   "execution_count": 20,
   "id": "2266ebdc-5667-4904-8270-adb46f88fd37",
   "metadata": {},
   "outputs": [
    {
     "data": {
      "application/vnd.jupyter.widget-view+json": {
       "model_id": "1b348ae7f060478586fbd368439e8df3",
       "version_major": 2,
       "version_minor": 0
      },
      "text/plain": [
       "Canvas(toolbar=Toolbar(toolitems=[('Home', 'Reset original view', 'home', 'home'), ('Back', 'Back to previous …"
      ]
     },
     "metadata": {},
     "output_type": "display_data"
    }
   ],
   "source": [
    "TPR, FPR_AT_TPR = metrics['TPR'], metrics['FPR_AT_TPR']\n",
    "fprs = metrics['fprs']\n",
    "tprs = metrics['tprs']\n",
    "thresholds = metrics['thresholds']\n",
    "rcls = metrics['rcls']\n",
    "prs = metrics['prs']\n",
    "\n",
    "\n",
    "fig = plt.figure(figsize=(10, 4))\n",
    "plt.subplot(1, 2, 1)\n",
    "plt.plot(fprs, tprs, linewidth=3, alpha=0.8)\n",
    "plt.xlabel('False Positive Rate')\n",
    "plt.ylabel('True Positive Rate')\n",
    "plt.fill_between(fprs, tprs, y2=0, alpha = 0.1, color='red')\n",
    "plt.text(0.2, 0.5, 'Area Under ROC', fontsize=20)\n",
    "\n",
    "ax = plt.gca()\n",
    "ax.scatter(FPR_AT_TPR, TPR, color = 'red', s=60)\n",
    "plt.plot(FPR_AT_TPR*np.ones(300), np.linspace(0, TPR, 300), linestyle='--', color='orange')\n",
    "plt.plot(np.linspace(-1, FPR_AT_TPR, 300), TPR*np.ones(300), linestyle='--', color='orange')\n",
    "plt.text(0, TPR + 0.02, str(TPR), fontsize=15, color='orange')\n",
    "\n",
    "plt.ylim((0, 1.05))\n",
    "plt.xlim((-0.05, 1.05))\n",
    "plt.title('ROC curve', fontsize=20)\n",
    "plt.grid()\n",
    "\n",
    "plt.subplot(1, 2, 2)\n",
    "plt.plot(rcls, prs, linewidth=3, alpha=0.8)\n",
    "plt.xlabel('Recall')\n",
    "plt.ylabel('Precision')\n",
    "plt.fill_between(rcls, prs, y2=0, alpha = 0.1, color='red')\n",
    "plt.text(0.4, 0.5, 'Area Under PR', fontsize=20)\n",
    "plt.ylim((0, 1.05))\n",
    "plt.title('PR curve', fontsize=20)\n",
    "plt.grid()\n",
    "\n",
    "plt.subplots_adjust(hspace = 0.5)\n",
    "fig.tight_layout()"
   ]
  },
  {
   "cell_type": "markdown",
   "id": "c9860b53-7bca-4a8c-bc9d-4a4410329ac4",
   "metadata": {},
   "source": [
    "# Error Detection: DOCTOR"
   ]
  },
  {
   "cell_type": "code",
   "execution_count": null,
   "id": "7150cee3-1ee2-401a-9dac-475f46169df0",
   "metadata": {},
   "outputs": [],
   "source": [
    "with torch.no_grad():\n",
    "    scores_true = []\n",
    "    scores_false = []\n",
    "    for _, (x,t) in enumerate(in_dataloader):\n",
    "        x, t = x.to(device), t.to(device)\n",
    "        logits= model(x)\n",
    "        y = F.softmax(logits, dim=1)\n",
    "        values, inds = torch.max(y, 1)\n",
    "        scores_true += 1 - values[inds == t]\n",
    "        scores_false += 1 - values[inds != t]"
   ]
  },
  {
   "cell_type": "code",
   "execution_count": null,
   "id": "1e4e57d9-4bac-4cab-8e71-57eecc8a8e17",
   "metadata": {},
   "outputs": [],
   "source": [
    "#Save the scores if you wish\n",
    "PATH = os.getcwd() + '/scores'\n",
    "results = {}\n",
    "results['true'] = scores_true\n",
    "results['false'] = scores_false\n",
    "torch.save(results, PATH + '/doctor.pt')\n",
    "print(type(scores_true))"
   ]
  },
  {
   "cell_type": "code",
   "execution_count": 21,
   "id": "92c5ed45-2bc3-4488-a645-30cbb9360d86",
   "metadata": {},
   "outputs": [
    {
     "data": {
      "application/vnd.jupyter.widget-view+json": {
       "model_id": "307dcdf74698439faca8ec5639b6eed7",
       "version_major": 2,
       "version_minor": 0
      },
      "text/plain": [
       "Canvas(toolbar=Toolbar(toolitems=[('Home', 'Reset original view', 'home', 'home'), ('Back', 'Back to previous …"
      ]
     },
     "metadata": {},
     "output_type": "display_data"
    }
   ],
   "source": [
    "PATH = os.getcwd() + '/scores'\n",
    "results = torch.load(PATH + '/doctor.pt')\n",
    "scores_true = results['true']\n",
    "scores_false = results['false']\n",
    "\n",
    "scores_true = torch.vstack(scores_true).squeeze(1).cpu().numpy()\n",
    "scores_false = torch.vstack(scores_false).squeeze(1).cpu().numpy()\n",
    "\n",
    "fig = plt.figure(figsize = (10, 3))\n",
    "\n",
    "bins=np.histogram(np.hstack((scores_true, scores_false)), bins=60)[1]\n",
    "plt.hist(scores_true, bins, alpha=0.5, label = 'Scores correct', density=True, color='green')\n",
    "plt.hist(scores_false, bins, alpha=0.5, label = 'Scores incorrect', density=True, color='red')\n",
    "\n",
    "plt.ylabel('Density')\n",
    "plt.xlabel('Score')\n",
    "plt.legend(loc='best')\n",
    "fig.tight_layout()"
   ]
  },
  {
   "cell_type": "code",
   "execution_count": 22,
   "id": "d11ee330-9f5e-43cc-b4a9-4ade86047677",
   "metadata": {},
   "outputs": [
    {
     "name": "stdout",
     "output_type": "stream",
     "text": [
      "FPR at TPR=0.95: 0.37\n",
      "AUROC: 0.94\n",
      "AUPR: 1.00\n",
      "Detection error: 0.21\n"
     ]
    }
   ],
   "source": [
    "#Plot TPR-FPR and P-R curves\n",
    "metrics = compute_metrics(-scores_true, -scores_false)"
   ]
  },
  {
   "cell_type": "code",
   "execution_count": 23,
   "id": "2c3fd24f-ff6a-489c-b733-a515640feeee",
   "metadata": {},
   "outputs": [
    {
     "data": {
      "application/vnd.jupyter.widget-view+json": {
       "model_id": "853933e9f42e41b297f9728519939448",
       "version_major": 2,
       "version_minor": 0
      },
      "text/plain": [
       "Canvas(toolbar=Toolbar(toolitems=[('Home', 'Reset original view', 'home', 'home'), ('Back', 'Back to previous …"
      ]
     },
     "metadata": {},
     "output_type": "display_data"
    },
    {
     "name": "stdout",
     "output_type": "stream",
     "text": [
      "FPR at TPR=0.95: 0.37\n",
      "AUROC: 0.94\n",
      "AUPR: 1.00\n",
      "Detection error: 0.21\n"
     ]
    },
    {
     "data": {
      "application/vnd.jupyter.widget-view+json": {
       "model_id": "e2a592aa2c8245feae85db62685690a9",
       "version_major": 2,
       "version_minor": 0
      },
      "text/plain": [
       "interactive(children=(IntSlider(value=1, description='ind', max=1255, min=1), Output()), _dom_classes=('widget…"
      ]
     },
     "metadata": {},
     "output_type": "display_data"
    }
   ],
   "source": [
    "fig = plt.figure(figsize=(12, 3))\n",
    "animation_ROC_PR(-scores_true, -scores_false)"
   ]
  },
  {
   "cell_type": "markdown",
   "id": "e4b1e719-2f82-453b-9acd-3861e3a8c3ed",
   "metadata": {},
   "source": [
    "# ODIN"
   ]
  },
  {
   "cell_type": "markdown",
   "id": "b90eaa91-f2ec-48ef-a77e-c0c8c5080f69",
   "metadata": {},
   "source": [
    "### Effect of input pre-processing and temperature scaling"
   ]
  },
  {
   "cell_type": "code",
   "execution_count": null,
   "id": "e4a388de-60df-483f-94ed-214b891d5d86",
   "metadata": {},
   "outputs": [],
   "source": [
    "_, (x, _) = next(enumerate(in_dataloader))\n",
    "x = x.to(device)\n",
    "x.requires_grad=True\n",
    "logits_tmp = model(x)\n",
    "scores = odin(logits_tmp)"
   ]
  },
  {
   "cell_type": "code",
   "execution_count": null,
   "id": "006ad3bf-bafa-441e-9c0d-2669233b8c81",
   "metadata": {},
   "outputs": [],
   "source": [
    "scores_in, scores_out = compute_odd_scores(model, odin, in_dataloader, out_dataloader, requires_grad=True, T=1000, eps=0.0014)"
   ]
  },
  {
   "cell_type": "code",
   "execution_count": null,
   "id": "fc9c4985-722d-4c10-be92-c8340f4ddcee",
   "metadata": {},
   "outputs": [],
   "source": [
    "#Save the scores if you wish\n",
    "PATH = os.getcwd() + '/scores'\n",
    "results = {}\n",
    "results['in'] = scores_in\n",
    "results['out'] = scores_out\n",
    "torch.save(results, PATH + '/odin.pt')\n",
    "print(type(scores_true))"
   ]
  },
  {
   "cell_type": "code",
   "execution_count": 24,
   "id": "bc23f4f6-d68d-4fe1-9d85-14385bd05976",
   "metadata": {},
   "outputs": [
    {
     "name": "stdout",
     "output_type": "stream",
     "text": [
      "FPR at TPR=0.95: 0.11\n",
      "AUROC: 0.98\n",
      "AUPR: 0.98\n",
      "Detection error: 0.08\n"
     ]
    }
   ],
   "source": [
    "#Plot TPR-FPR and P-R curves\n",
    "PATH = os.getcwd() + '/scores'\n",
    "results = torch.load(PATH + '/odin.pt')\n",
    "scores_in = results['in']\n",
    "scores_out = results['out']\n",
    "\n",
    "metrics = compute_metrics(scores_in, scores_out)"
   ]
  },
  {
   "cell_type": "code",
   "execution_count": 25,
   "id": "a5995d96-0eb3-4918-bf50-d676aa3e8842",
   "metadata": {},
   "outputs": [
    {
     "data": {
      "application/vnd.jupyter.widget-view+json": {
       "model_id": "a792f0ff548244c794b804b4603b7e1d",
       "version_major": 2,
       "version_minor": 0
      },
      "text/plain": [
       "Canvas(toolbar=Toolbar(toolitems=[('Home', 'Reset original view', 'home', 'home'), ('Back', 'Back to previous …"
      ]
     },
     "metadata": {},
     "output_type": "display_data"
    },
    {
     "name": "stdout",
     "output_type": "stream",
     "text": [
      "FPR at TPR=0.95: 0.11\n",
      "AUROC: 0.98\n",
      "AUPR: 0.98\n",
      "Detection error: 0.08\n"
     ]
    },
    {
     "data": {
      "application/vnd.jupyter.widget-view+json": {
       "model_id": "9fe0d6f3470c4b6db55ac5fba3d5816d",
       "version_major": 2,
       "version_minor": 0
      },
      "text/plain": [
       "interactive(children=(IntSlider(value=1, description='ind', max=3731, min=1), Output()), _dom_classes=('widget…"
      ]
     },
     "metadata": {},
     "output_type": "display_data"
    }
   ],
   "source": [
    "fig = plt.figure(figsize=(12, 3))\n",
    "animation_ROC_PR(scores_in, scores_out)"
   ]
  },
  {
   "cell_type": "markdown",
   "id": "cff9aa15-2920-4e14-b97b-0b044e2c3821",
   "metadata": {},
   "source": [
    "# Mahalanobis distance-based OOD"
   ]
  },
  {
   "cell_type": "markdown",
   "id": "24b37e5f-b6d9-4241-b96f-403a9d14301e",
   "metadata": {},
   "source": [
    "### Compute logits for in-distribution and out-of-distribution data"
   ]
  },
  {
   "cell_type": "code",
   "execution_count": null,
   "id": "f5849e4a-fc32-469b-bce4-695270817fe5",
   "metadata": {},
   "outputs": [],
   "source": [
    "with torch.no_grad():\n",
    "    logits = []\n",
    "    labels = []\n",
    "    for _, (x, _) in enumerate(in_dataloader):\n",
    "        x = x.to(device)\n",
    "        logits_tmp = model(x)\n",
    "        logits += logits_tmp\n",
    "        _, labels_tmp = torch.max(logits_tmp, 1)\n",
    "        labels += labels_tmp\n",
    "\n",
    "    logits = torch.vstack(logits)\n",
    "    labels = torch.vstack(labels)"
   ]
  },
  {
   "cell_type": "code",
   "execution_count": null,
   "id": "84ec607d-92a8-468f-813a-6c35b71bce41",
   "metadata": {},
   "outputs": [],
   "source": [
    "with torch.no_grad():\n",
    "    \n",
    "    '''\n",
    "    _, (x_out, _) = next(enumerate(out_dataloader))\n",
    "    x_out = x_out.to(device)\n",
    "    logits_out = model(x_out)\n",
    "    '''\n",
    "    \n",
    "    logits_out = []\n",
    "    \n",
    "    for _, (x_out, _) in enumerate(out_dataloader):\n",
    "        x_out = x_out.to(device)\n",
    "        logits_tmp = model(x_out)\n",
    "        logits_out += logits_tmp\n",
    "\n",
    "    logits_out = torch.vstack(logits_out)"
   ]
  },
  {
   "cell_type": "markdown",
   "id": "0f200702-3607-4a7b-8b3c-8bb22eff680b",
   "metadata": {},
   "source": [
    "### Perform dimensionality reduction with t-SNE for visualization"
   ]
  },
  {
   "cell_type": "code",
   "execution_count": null,
   "id": "c8f9f1c0-cb70-4bdf-ad34-ddb2f13a7d74",
   "metadata": {},
   "outputs": [],
   "source": [
    "from sklearn.manifold import TSNE\n",
    "tsne = TSNE(n_components=2, random_state=0)\n",
    "logits_compressed = torch.tensor(tsne.fit_transform(torch.cat((logits, logits_out),0).cpu().detach().numpy()))"
   ]
  },
  {
   "cell_type": "markdown",
   "id": "423d020b-699c-4929-94ec-43c7218260f1",
   "metadata": {},
   "source": [
    "### Compute Gaussian parameters in 2D"
   ]
  },
  {
   "cell_type": "code",
   "execution_count": 31,
   "id": "7d71c7fb-feda-425c-b77f-1748f3a25bfd",
   "metadata": {},
   "outputs": [],
   "source": [
    "results = torch.load(os.getcwd() + '/scores/logits_compressed.pt')\n",
    "logits_compressed = results['logits']\n",
    "labels = results['labels']\n",
    "\n",
    "mus2d = []\n",
    "covs2d = []\n",
    "logits_compressed_in = logits_compressed[:-10000]\n",
    "\n",
    "for l in range(10):\n",
    "    logits_tmp = logits_compressed_in[torch.where(labels==l)[0], :]\n",
    "    mu_tmp = logits_tmp.mean(0)\n",
    "    mus2d += [mu_tmp]\n",
    "    covs2d += [((logits_tmp - mu_tmp.unsqueeze(0).repeat(logits_tmp.size(0), 1))**2).mean(0)]\n",
    "    \n",
    "mus2d = torch.vstack(mus2d)\n",
    "covs2d = torch.vstack(covs2d)"
   ]
  },
  {
   "cell_type": "markdown",
   "id": "dddb3bbb-d3a6-4474-baae-98ee1637767e",
   "metadata": {},
   "source": [
    "### Draw embeddings in 2D"
   ]
  },
  {
   "cell_type": "code",
   "execution_count": 33,
   "id": "37275b5e-031a-4ac9-be1f-9ce75d100398",
   "metadata": {},
   "outputs": [
    {
     "data": {
      "application/vnd.jupyter.widget-view+json": {
       "model_id": "830f92e5abf64b3f97cf0288f769d528",
       "version_major": 2,
       "version_minor": 0
      },
      "text/plain": [
       "Canvas(toolbar=Toolbar(toolitems=[('Home', 'Reset original view', 'home', 'home'), ('Back', 'Back to previous …"
      ]
     },
     "metadata": {},
     "output_type": "display_data"
    },
    {
     "data": {
      "text/plain": [
       "<matplotlib.legend.Legend at 0x7f84c1176f40>"
      ]
     },
     "execution_count": 33,
     "metadata": {},
     "output_type": "execute_result"
    }
   ],
   "source": [
    "fig = plt.figure(figsize=(9, 5))\n",
    "\n",
    "ulabels, colors = scatter(logits_compressed_in, labels=labels, s=3,\n",
    "                         named_labels=['Class '+ str(l) for l in range(10)])\n",
    "\n",
    "'''\n",
    "for l in range(10):\n",
    "    draw_ellipse(mus2d[l], torch.diag(covs2d[l]), fc = colors[l])\n",
    "'''\n",
    "\n",
    "logits_compressed_out = logits_compressed[-10000:]\n",
    "\n",
    "scatter(logits_compressed_out, s=3, colors = 'black', named_labels='Out')\n",
    "\n",
    "plt.ylim((-115, 110))\n",
    "plt.xlim((-100, 110))\n",
    "plt.legend(loc = 'lower left', prop={'size': 10})"
   ]
  },
  {
   "cell_type": "markdown",
   "id": "8dfaa68b-cdcd-44b7-b16c-4de66f4a78d1",
   "metadata": {},
   "source": [
    "### Compute Gaussian parameters in the logits space"
   ]
  },
  {
   "cell_type": "code",
   "execution_count": null,
   "id": "7da5c4f7-f85a-4e3c-8174-b899d045ccc8",
   "metadata": {},
   "outputs": [],
   "source": [
    "mus = []\n",
    "covs = []\n",
    "\n",
    "for l in range(10):\n",
    "    logits_tmp = logits[torch.where(labels==l)[0], :]\n",
    "    mu_tmp = logits_tmp.mean(0)\n",
    "    mus += [mu_tmp]\n",
    "    covs += [((logits_tmp - mu_tmp.unsqueeze(0).repeat(logits_tmp.size(0), 1))**2).mean(0)]\n",
    "    \n",
    "mus = torch.vstack(mus)\n",
    "covs = torch.vstack(covs)\n",
    "inv_covs = 1/covs"
   ]
  },
  {
   "cell_type": "markdown",
   "id": "7007f40d-1510-4d70-930a-6b968af5a06d",
   "metadata": {},
   "source": [
    "### Compute Mahalanobis score for in and out samples"
   ]
  },
  {
   "cell_type": "code",
   "execution_count": null,
   "id": "c9ab5964-0549-4656-bed0-69238ce4b5ba",
   "metadata": {},
   "outputs": [],
   "source": [
    "def mahalanobis_score_diag(logits, **kwargs):\n",
    "    mus = kwargs['mus']\n",
    "    inv_covs = kwargs['inv_covs']\n",
    "    X = logits.unsqueeze(-1).repeat(1, 1, logits.size(1))\n",
    "    MU = mus.t().unsqueeze(0).repeat(logits.size(0), 1, 1)\n",
    "    INV_COV = inv_covs.t().unsqueeze(0).repeat(logits.size(0), 1, 1)\n",
    "    D, _ = torch.min((INV_COV*(X - MU)**2).sum(1), 1)\n",
    "    return -D"
   ]
  },
  {
   "cell_type": "code",
   "execution_count": null,
   "id": "20d76eb6-da62-44ea-b9a7-4ccfd3282ac5",
   "metadata": {},
   "outputs": [],
   "source": [
    "#mahalanobis_score_diag(logits_tmp, mus=mus, inv_covs=inv_covs)\n",
    "scores_in, scores_out = compute_odd_scores(model, mahalanobis_score_diag, in_dataloader, out_dataloader, mus=mus, inv_covs=inv_covs)"
   ]
  },
  {
   "cell_type": "code",
   "execution_count": 36,
   "id": "c66355f5-58ea-4d76-9927-3eb5315d86db",
   "metadata": {},
   "outputs": [
    {
     "name": "stdout",
     "output_type": "stream",
     "text": [
      "FPR at TPR=0.95: 0.84\n",
      "AUROC: 0.80\n",
      "AUPR: 0.83\n",
      "Detection error: 0.45\n"
     ]
    }
   ],
   "source": [
    "#Plot TPR-FPR and P-R curves\n",
    "results = torch.load(os.getcwd() + '/scores/mh_logits.pt')\n",
    "scores_in = results['in']\n",
    "scores_out = results['out']\n",
    "metrics = compute_metrics(scores_in, scores_out)"
   ]
  },
  {
   "cell_type": "code",
   "execution_count": 37,
   "id": "019f4c48-79b9-41ec-94d0-8a930953c7f6",
   "metadata": {},
   "outputs": [
    {
     "data": {
      "application/vnd.jupyter.widget-view+json": {
       "model_id": "ccfe7923475c47adb3c98ec9eb9f246c",
       "version_major": 2,
       "version_minor": 0
      },
      "text/plain": [
       "Canvas(toolbar=Toolbar(toolitems=[('Home', 'Reset original view', 'home', 'home'), ('Back', 'Back to previous …"
      ]
     },
     "metadata": {},
     "output_type": "display_data"
    },
    {
     "name": "stdout",
     "output_type": "stream",
     "text": [
      "FPR at TPR=0.95: 0.84\n",
      "AUROC: 0.80\n",
      "AUPR: 0.83\n",
      "Detection error: 0.45\n"
     ]
    },
    {
     "data": {
      "application/vnd.jupyter.widget-view+json": {
       "model_id": "1a87d658222a4e0ca8e03f090ad1998b",
       "version_major": 2,
       "version_minor": 0
      },
      "text/plain": [
       "interactive(children=(IntSlider(value=1, description='ind', max=6972, min=1), Output()), _dom_classes=('widget…"
      ]
     },
     "metadata": {},
     "output_type": "display_data"
    }
   ],
   "source": [
    "fig = plt.figure(figsize=(12, 3))\n",
    "animation_ROC_PR(scores_in, scores_out)"
   ]
  },
  {
   "cell_type": "markdown",
   "id": "1c98a380-1182-4b07-bb22-5a993625d069",
   "metadata": {},
   "source": [
    "### Same but with input pre-processing"
   ]
  },
  {
   "cell_type": "code",
   "execution_count": null,
   "id": "7251a038-8df3-43bd-920f-749dd27d270e",
   "metadata": {},
   "outputs": [],
   "source": [
    "scores_in, scores_out = compute_odd_scores(model, mahalanobis_score_diag, in_dataloader, out_dataloader, mus=mus, inv_covs=inv_covs, requires_grad=True, eps=0.012)"
   ]
  },
  {
   "cell_type": "code",
   "execution_count": 38,
   "id": "17699ed6-0c03-4f3d-975c-ca5d23900893",
   "metadata": {},
   "outputs": [
    {
     "name": "stdout",
     "output_type": "stream",
     "text": [
      "FPR at TPR=0.95: 0.63\n",
      "AUROC: 0.85\n",
      "AUPR: 0.85\n",
      "Detection error: 0.34\n"
     ]
    }
   ],
   "source": [
    "#Plot TPR-FPR and P-R curves\n",
    "results = torch.load(os.getcwd() + '/scores/mh_logits_with_grad.pt')\n",
    "scores_in = results['in']\n",
    "scores_out = results['out']\n",
    "\n",
    "metrics = compute_metrics(scores_in, scores_out)"
   ]
  },
  {
   "cell_type": "code",
   "execution_count": 39,
   "id": "d051ed72-e6d0-4a3b-afd0-ce4f066df446",
   "metadata": {},
   "outputs": [
    {
     "data": {
      "application/vnd.jupyter.widget-view+json": {
       "model_id": "7920876ea2954d338a7b0181e615f9f2",
       "version_major": 2,
       "version_minor": 0
      },
      "text/plain": [
       "Canvas(toolbar=Toolbar(toolitems=[('Home', 'Reset original view', 'home', 'home'), ('Back', 'Back to previous …"
      ]
     },
     "metadata": {},
     "output_type": "display_data"
    },
    {
     "name": "stdout",
     "output_type": "stream",
     "text": [
      "FPR at TPR=0.95: 0.63\n",
      "AUROC: 0.85\n",
      "AUPR: 0.85\n",
      "Detection error: 0.34\n"
     ]
    },
    {
     "data": {
      "application/vnd.jupyter.widget-view+json": {
       "model_id": "9dde0bf09d4347fb857d2719b2a829ff",
       "version_major": 2,
       "version_minor": 0
      },
      "text/plain": [
       "interactive(children=(IntSlider(value=1, description='ind', max=6241, min=1), Output()), _dom_classes=('widget…"
      ]
     },
     "metadata": {},
     "output_type": "display_data"
    }
   ],
   "source": [
    "fig = plt.figure(figsize=(12, 3))\n",
    "animation_ROC_PR(scores_in, scores_out)"
   ]
  },
  {
   "cell_type": "markdown",
   "id": "633ecfa4-cee3-44e9-89c2-5969a325a16a",
   "metadata": {},
   "source": [
    "# Bayes by backprop"
   ]
  },
  {
   "cell_type": "code",
   "execution_count": 5,
   "id": "1bc8ca20-8517-4dd9-89a7-b3ca6fdbfb5b",
   "metadata": {},
   "outputs": [],
   "source": [
    "from BayesBackpropagation import *\n",
    "import math"
   ]
  },
  {
   "cell_type": "code",
   "execution_count": 6,
   "id": "3b461fba-06ef-4029-93b8-afa6cfe5e842",
   "metadata": {},
   "outputs": [],
   "source": [
    "# Define training step for regression\n",
    "def train(net, optimizer, data, target, NUM_BATCHES):\n",
    "    #net.train()\n",
    "    for i in range(NUM_BATCHES):\n",
    "        net.zero_grad()\n",
    "        x = data[i].reshape((-1, 1))\n",
    "        y = target[i].reshape((-1,1))\n",
    "        loss = net.BBB_loss(x, y)\n",
    "        loss.backward()\n",
    "        optimizer.step()\n",
    "\n",
    "#Hyperparameter setting\n",
    "TRAIN_EPOCHS = 900\n",
    "SAMPLES = 5\n",
    "TEST_SAMPLES = 10\n",
    "BATCH_SIZE = 200\n",
    "NUM_BATCHES = 10\n",
    "TEST_BATCH_SIZE = 50\n",
    "CLASSES = 1\n",
    "PI = 0.25\n",
    "SIGMA_1 = torch.FloatTensor([math.exp(-0)])\n",
    "SIGMA_2 = torch.FloatTensor([math.exp(-6)])"
   ]
  },
  {
   "cell_type": "code",
   "execution_count": 7,
   "id": "10ed9ecc-4b36-4de5-8d19-1e64acf7c248",
   "metadata": {},
   "outputs": [
    {
     "name": "stdout",
     "output_type": "stream",
     "text": [
      "Generating Data set.\n"
     ]
    }
   ],
   "source": [
    "print('Generating Data set.')\n",
    "\n",
    "#Data Generation step\n",
    "if torch.cuda.is_available():\n",
    "    Var = lambda x, dtype=torch.cuda.FloatTensor: Variable(torch.from_numpy(x).type(dtype)) #converting data to tensor\n",
    "else:\n",
    "    Var = lambda x, dtype=torch.FloatTensor: Variable(torch.from_numpy(x).type(dtype)) #converting data to tensor\n",
    "\n",
    "x = np.random.uniform(-0.1, 0.61, size=(NUM_BATCHES,BATCH_SIZE))\n",
    "noise = np.random.normal(0, 0.02, size=(NUM_BATCHES,BATCH_SIZE)) #metric as mentioned in the paper\n",
    "y = x + 0.3*np.sin(2*np.pi*(x+noise)) + 0.3*np.sin(4*np.pi*(x+noise)) + noise\n",
    "\n",
    "x_test = np.linspace(-0.5, 1,TEST_BATCH_SIZE)\n",
    "y_test = x_test + 0.3*np.sin(2*np.pi*x_test) + 0.3*np.sin(4*np.pi*x_test)"
   ]
  },
  {
   "cell_type": "code",
   "execution_count": 8,
   "id": "ee91d31b-0385-4186-9e58-99db6e83ecf6",
   "metadata": {},
   "outputs": [],
   "source": [
    "def BBB_Regression(x,y,x_test,y_test):\n",
    "\n",
    "    print('BBB Training Begins!')\n",
    "\n",
    "    X = Var(x)\n",
    "    Y = Var(y)\n",
    "    X_test = Var(x_test)\n",
    "\n",
    "    #Declare Network\n",
    "    net = BayesianNetwork(inputSize = 1,\\\n",
    "                        CLASSES = CLASSES, \\\n",
    "                        layers=np.array([16,16,16]), \\\n",
    "                        activations = np.array(['relu','relu','relu','none']), \\\n",
    "                        SAMPLES = SAMPLES, \\\n",
    "                        BATCH_SIZE = BATCH_SIZE,\\\n",
    "                        NUM_BATCHES = NUM_BATCHES,\\\n",
    "                        hasScalarMixturePrior = True,\\\n",
    "                        PI = PI,\\\n",
    "                        SIGMA_1 = SIGMA_1,\\\n",
    "                        SIGMA_2 = SIGMA_2,\\\n",
    "                        GOOGLE_INIT= False).to(DEVICE)\n",
    "\n",
    "    #Declare the optimizer\n",
    "    optimizer = optim.SGD(net.parameters(),lr=1e-3,momentum=0.95)\n",
    "\n",
    "    for epoch in range(TRAIN_EPOCHS):\n",
    "        if (epoch)%100 == 0:\n",
    "            print('Epoch: ', epoch)\n",
    "        train(net, optimizer,data=X,target=Y,NUM_BATCHES=NUM_BATCHES)\n",
    "\n",
    "    print('Training Ends!')\n",
    "\n",
    "    return net, X_test\n",
    "\n",
    "#Comparing to standard neural network\n",
    "def NN_Regression(x,y,x_test,y_test):\n",
    "\n",
    "    print('SGD Training Begins!')\n",
    "\n",
    "    x = x.flatten()\n",
    "    X = Var(x)\n",
    "    X = torch.unsqueeze(X,1)\n",
    "    \n",
    "    y = y.flatten()\n",
    "    Y = Var(y)\n",
    "    Y = torch.unsqueeze(Y,1)\n",
    "    X_test = Var(x_test)\n",
    "    X_test = torch.unsqueeze(X_test,1)\n",
    "\n",
    "    class Net(torch.nn.Module):\n",
    "        def __init__(self, n_feature, n_hidden, n_output):\n",
    "            super(Net, self).__init__()\n",
    "            self.l1 = torch.nn.Linear(n_feature, n_hidden[0])   # hidden layer 1\n",
    "            self.l2 =  torch.nn.Linear(n_hidden[0], n_hidden[1])   # hidden layer 2\n",
    "            self.l3 =  torch.nn.Linear(n_hidden[1], n_hidden[2])   # hidden layer 3\n",
    "            self.predict = torch.nn.Linear(n_hidden[2], n_output)   # output layer\n",
    "\n",
    "        def forward(self, x):\n",
    "            x = F.relu(self.l1(x))      # activation function for hidden layer 1\n",
    "            x = F.relu(self.l2(x))      # activation function for hidden layer 2\n",
    "            x = F.relu(self.l3(x))      # activation function for hidden layer 3\n",
    "            x = self.predict(x)         # linear output\n",
    "            return x\n",
    "\n",
    "    net = Net(n_feature=1, n_hidden=[16,16,16], n_output=1)\n",
    "    optimizer = torch.optim.SGD(net.parameters(), lr=0.2)\n",
    "    loss_func = torch.nn.MSELoss()  # this is for regression mean squared loss\n",
    "\n",
    "    for epoch in range(2000):\n",
    "        if (epoch)%100 == 0:\n",
    "            print('Epoch: ', epoch)\n",
    "        prediction = net(X)     # input x and predict based on x\n",
    "        loss = loss_func(prediction, Y)     # must be (1. nn output, 2. target)\n",
    "        optimizer.zero_grad()   # clear gradients for next train\n",
    "        loss.backward()         # backpropagation, compute gradients\n",
    "        optimizer.step()        # apply gradients\n",
    "    \n",
    "    return net, X_test"
   ]
  },
  {
   "cell_type": "code",
   "execution_count": 9,
   "id": "7212db32-63ca-45c7-ae0b-96cbc597b16c",
   "metadata": {},
   "outputs": [
    {
     "name": "stdout",
     "output_type": "stream",
     "text": [
      "BBB Training Begins!\n",
      "Epoch:  0\n",
      "Epoch:  100\n",
      "Epoch:  200\n",
      "Epoch:  300\n",
      "Epoch:  400\n",
      "Epoch:  500\n",
      "Epoch:  600\n",
      "Epoch:  700\n",
      "Epoch:  800\n",
      "Training Ends!\n"
     ]
    }
   ],
   "source": [
    "net_BBB, X = BBB_Regression(x,y,x_test,y_test)"
   ]
  },
  {
   "cell_type": "code",
   "execution_count": 10,
   "id": "307a98bf-3fd2-4891-b523-181f4d893828",
   "metadata": {},
   "outputs": [
    {
     "data": {
      "application/vnd.jupyter.widget-view+json": {
       "model_id": "4fa0e71a32d246df87c6c0da980e7f8b",
       "version_major": 2,
       "version_minor": 0
      },
      "text/plain": [
       "Canvas(toolbar=Toolbar(toolitems=[('Home', 'Reset original view', 'home', 'home'), ('Back', 'Back to previous …"
      ]
     },
     "metadata": {},
     "output_type": "display_data"
    }
   ],
   "source": [
    "outputs = torch.zeros(TEST_SAMPLES+1, TEST_BATCH_SIZE, CLASSES).to(DEVICE)\n",
    "for i in range(TEST_SAMPLES):\n",
    "    outputs[i] = net_BBB.forward(X)\n",
    "outputs[TEST_SAMPLES] = net_BBB.forward(X)\n",
    "pred_mean = outputs.mean(0).data.cpu().numpy().squeeze(1) #Compute mean prediction\n",
    "pred_std = outputs.std(0).data.cpu().numpy().squeeze(1) #Compute standard deviation of prediction for each data point\n",
    "\n",
    "#Visualization\n",
    "plt.figure(figsize=(10,6))\n",
    "plt.fill_between(x_test, pred_mean - 3 * pred_std, pred_mean + 3 * pred_std,\n",
    "                    color='cornflowerblue', alpha=.5, label='+/- 3 std')\n",
    "plt.scatter(x, y,marker='x', c='black', label='target')\n",
    "plt.plot(x_test, pred_mean, c='red', label='Prediction')\n",
    "plt.plot(x_test, y_test, c='grey', label='truth')\n",
    "plt.legend(prop={'size': 16})\n",
    "plt.tight_layout()"
   ]
  },
  {
   "cell_type": "code",
   "execution_count": 11,
   "id": "6363b53f-8df7-405c-8250-d28b4cc4db8e",
   "metadata": {},
   "outputs": [
    {
     "name": "stdout",
     "output_type": "stream",
     "text": [
      "SGD Training Begins!\n",
      "Epoch:  0\n",
      "Epoch:  100\n",
      "Epoch:  200\n",
      "Epoch:  300\n",
      "Epoch:  400\n",
      "Epoch:  500\n",
      "Epoch:  600\n",
      "Epoch:  700\n",
      "Epoch:  800\n",
      "Epoch:  900\n",
      "Epoch:  1000\n",
      "Epoch:  1100\n",
      "Epoch:  1200\n",
      "Epoch:  1300\n",
      "Epoch:  1400\n",
      "Epoch:  1500\n",
      "Epoch:  1600\n",
      "Epoch:  1700\n",
      "Epoch:  1800\n",
      "Epoch:  1900\n"
     ]
    }
   ],
   "source": [
    "standard_net, X = NN_Regression(x,y,x_test,y_test)"
   ]
  },
  {
   "cell_type": "code",
   "execution_count": 12,
   "id": "bda7da87-2cf9-45b7-97d7-e6c85a348f18",
   "metadata": {},
   "outputs": [
    {
     "data": {
      "application/vnd.jupyter.widget-view+json": {
       "model_id": "11eac7e925d54dc882d093327cdbd6db",
       "version_major": 2,
       "version_minor": 0
      },
      "text/plain": [
       "Canvas(toolbar=Toolbar(toolitems=[('Home', 'Reset original view', 'home', 'home'), ('Back', 'Back to previous …"
      ]
     },
     "metadata": {},
     "output_type": "display_data"
    }
   ],
   "source": [
    "prediction = standard_net(X)\n",
    "\n",
    "#Visualization\n",
    "plt.figure(figsize=(10,6))\n",
    "plt.scatter(x, y,marker='x', c='black', label='target')\n",
    "plt.plot(x_test, prediction.detach().numpy(), c='red', label='Prediction')\n",
    "plt.plot(x_test, y_test, c='grey', label='truth')\n",
    "plt.legend(prop={'size': 16})\n",
    "plt.tight_layout()\n",
    "plt.show()"
   ]
  },
  {
   "cell_type": "code",
   "execution_count": null,
   "id": "843ca558-55db-4cec-bc32-026707d8a02b",
   "metadata": {},
   "outputs": [],
   "source": []
  }
 ],
 "metadata": {
  "kernelspec": {
   "display_name": "Python 3",
   "language": "python",
   "name": "python3"
  },
  "language_info": {
   "codemirror_mode": {
    "name": "ipython",
    "version": 3
   },
   "file_extension": ".py",
   "mimetype": "text/x-python",
   "name": "python",
   "nbconvert_exporter": "python",
   "pygments_lexer": "ipython3",
   "version": "3.8.8"
  }
 },
 "nbformat": 4,
 "nbformat_minor": 5
}
